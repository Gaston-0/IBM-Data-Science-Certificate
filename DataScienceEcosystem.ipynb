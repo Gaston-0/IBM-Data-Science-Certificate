{
 "cells": [
  {
   "cell_type": "markdown",
   "id": "ba5929a9-84a8-4809-9df4-09bf5d4a21ef",
   "metadata": {},
   "source": [
    "# Data Science Tools and Ecosystem"
   ]
  },
  {
   "cell_type": "markdown",
   "id": "8a38f15a-7752-4440-821a-7713172a778c",
   "metadata": {},
   "source": [
    "In this notebook, Data Science Tools and Ecosystem are summarized."
   ]
  },
  {
   "cell_type": "markdown",
   "id": "89640a75-e5fe-45c0-ac64-bdf4d6c9548f",
   "metadata": {},
   "source": [
    "**Objectives:**\n",
    "- Languages for Data Science\n",
    "- Libraries for Data Science\n",
    "- Tools for Data Science"
   ]
  },
  {
   "cell_type": "markdown",
   "id": "abce1fbb-5aa0-438b-a125-b76109528ee5",
   "metadata": {},
   "source": [
    "Some of the popular languages that Data Scientists use are:\n",
    "1. Python\n",
    "2. R\n",
    "3. SQL\n",
    "4. Scala"
   ]
  },
  {
   "cell_type": "markdown",
   "id": "84f335a5-7449-4480-9baa-0b35da45f826",
   "metadata": {},
   "source": [
    "Some of the commonly used libraries used by Data Scientists include:\n",
    "1. NumPy\n",
    "2. Pandas\n",
    "3. Matplotlib\n",
    "4. ggplot2"
   ]
  },
  {
   "cell_type": "markdown",
   "id": "5d5c0fb9-00b7-47b5-b7a4-da74b2e182c4",
   "metadata": {},
   "source": [
    "<table style=\"width:14%\">\n",
    "<tr>\n",
    "<th>Data Science Tools</th>\n",
    "</tr>\n",
    "<tr>\n",
    "<td>Jupyter Notebook</td>\n",
    "</tr>\n",
    "<tr>\n",
    "<td>RStudio</td>\n",
    "</tr>\n",
    "<tr>\n",
    "<td>VS Code</td>\n",
    "</tr>    \n",
    "</table>"
   ]
  },
  {
   "cell_type": "markdown",
   "id": "c7030a77-4de1-4dd6-a688-6c1f49b9a504",
   "metadata": {},
   "source": [
    "### Below are a few examples of evaluating arithmetic expressions in Python"
   ]
  },
  {
   "cell_type": "code",
   "execution_count": 5,
   "id": "d5a9173e-df0d-432d-a9a4-4f14b8d4096f",
   "metadata": {},
   "outputs": [
    {
     "data": {
      "text/plain": [
       "17"
      ]
     },
     "execution_count": 5,
     "metadata": {},
     "output_type": "execute_result"
    }
   ],
   "source": [
    "# This a simple arithmetic expression to mutiply then add integers\n",
    "(3*4)+5"
   ]
  },
  {
   "cell_type": "code",
   "execution_count": 8,
   "id": "8a28d9f4-6329-4a9d-8183-e3e50577dca5",
   "metadata": {},
   "outputs": [
    {
     "name": "stdout",
     "output_type": "stream",
     "text": [
      "3.3333333333333335\n"
     ]
    }
   ],
   "source": [
    "# This will convert 200 minutes to hours by diving by 60\n",
    "minutes = 200\n",
    "hours = minutes/60\n",
    "print(hours)"
   ]
  },
  {
   "cell_type": "markdown",
   "id": "29c6aeb7-98d5-4336-8aa9-5a3e697b8084",
   "metadata": {},
   "source": [
    "## Author\n",
    "Grigorios Papailiou"
   ]
  }
 ],
 "metadata": {
  "kernelspec": {
   "display_name": "Python",
   "language": "python",
   "name": "conda-env-python-py"
  },
  "language_info": {
   "codemirror_mode": {
    "name": "ipython",
    "version": 3
   },
   "file_extension": ".py",
   "mimetype": "text/x-python",
   "name": "python",
   "nbconvert_exporter": "python",
   "pygments_lexer": "ipython3",
   "version": "3.7.12"
  }
 },
 "nbformat": 4,
 "nbformat_minor": 5
}
